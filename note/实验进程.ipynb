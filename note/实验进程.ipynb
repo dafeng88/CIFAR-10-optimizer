{
 "cells": [
  {
   "cell_type": "code",
   "execution_count": null,
   "id": "initial_id",
   "metadata": {
    "collapsed": true
   },
   "outputs": [],
   "source": "11月24，使用resnet50算法，严重过拟合，训练集准确率能飙到99%，测试集只有10%\n"
  },
  {
   "metadata": {},
   "cell_type": "markdown",
   "source": "",
   "id": "49779f214130feef"
  },
  {
   "metadata": {},
   "cell_type": "markdown",
   "source": "",
   "id": "d9d57adf3952d776"
  }
 ],
 "metadata": {
  "kernelspec": {
   "display_name": "Python 3",
   "language": "python",
   "name": "python3"
  },
  "language_info": {
   "codemirror_mode": {
    "name": "ipython",
    "version": 2
   },
   "file_extension": ".py",
   "mimetype": "text/x-python",
   "name": "python",
   "nbconvert_exporter": "python",
   "pygments_lexer": "ipython2",
   "version": "2.7.6"
  }
 },
 "nbformat": 4,
 "nbformat_minor": 5
}
